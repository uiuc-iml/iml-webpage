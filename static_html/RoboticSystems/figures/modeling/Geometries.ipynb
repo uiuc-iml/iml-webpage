{
 "cells": [
  {
   "cell_type": "code",
   "execution_count": 1,
   "metadata": {},
   "outputs": [
    {
     "name": "stdout",
     "output_type": "stream",
     "text": [
      "***  klampt.vis: using Qt5 as the visualization backend  ***\n"
     ]
    }
   ],
   "source": [
    "%load_ext wurlitzer\n",
    "from klampt import *\n",
    "from klampt import vis\n",
    "import numpy as np\n",
    "\n",
    "vis.clear()\n",
    "\n",
    "w = WorldModel()\n",
    "o = w.makeRigidObject(\"obj\")\n",
    "#o.geometry().loadFile(\"/home/motion/rockclimber/sim/robot/stl/robosim_roll_link.stl\")\n",
    "o.geometry().loadFile(\"/home/motion/rockclimber/sim/robot/stl/robosim_dd_wheel.stl\")\n",
    "\"\"\"\n",
    "#replace with volume grid\n",
    "g = o.geometry().convert(\"VolumeGrid\",0.0025)\n",
    "vgrid = g.getVolumeGrid()\n",
    "#for i in range(vgrid.dims[0]*3/4,vgrid.dims[0]):\n",
    "for i in range(vgrid.dims[0]):\n",
    "    #for j in range(vgrid.dims[1]):\n",
    "    for j in range(vgrid.dims[1]/4):\n",
    "        for k in range(vgrid.dims[2]):\n",
    "            vgrid.set(i,j,k,0.1)\n",
    "g = Geometry3D(vgrid)\n",
    "o.geometry().set(g)\n",
    "\"\"\"\n",
    "\"\"\"\n",
    "#replace with point cloud\n",
    "g = o.geometry().convert(\"PointCloud\",0.0025)\n",
    "pc = g.getPointCloud()\n",
    "n = pc.numPoints()\n",
    "points = np.array(pc.vertices).reshape((pc.numPoints(),3))\n",
    "print np.min(points,axis=0),np.max(points,axis=0)\n",
    "bmin,bmax = np.min(points,axis=0),np.max(points,axis=0)\n",
    "height = (points[:,2]-bmin[2])/(bmax[2]-bmin[2])\n",
    "pc.addProperty(\"r\",height.tolist())\n",
    "pc.addProperty(\"g\",(1.0-height).tolist())\n",
    "pc.addProperty(\"b\",[0.0]*n)\n",
    "pc.addProperty(\"a\",[1.0]*n)\n",
    "o.geometry().set(Geometry3D(pc))\n",
    "\"\"\"\n",
    "\n",
    "vis.add(\"world\",w)"
   ]
  },
  {
   "cell_type": "code",
   "execution_count": 4,
   "metadata": {},
   "outputs": [
    {
     "name": "stdout",
     "output_type": "stream",
     "text": [
      "#########################################\n",
      "klampt.vis: Making window 0\n",
      "#########################################\n",
      "#########################################\n",
      "klampt.vis: Window close\n",
      "#########################################\n"
     ]
    }
   ],
   "source": [
    "#mesh\n",
    "vis.show()\n",
    "app = o.appearance()\n",
    "app.setSilhouette(0)\n",
    "app.setColor(0,0.25,0.25,0.25,1)\n",
    "app.setColor(2,1,1,0,1)\n",
    "app.setDraw(2,True)"
   ]
  },
  {
   "cell_type": "code",
   "execution_count": null,
   "metadata": {},
   "outputs": [],
   "source": [
    "#volume grid\n",
    "vis.show()\n",
    "vis.setColor((\"world\",\"obj\"),0.25,0.25,0.6)\n",
    "app = o.appearance()\n",
    "app.setSilhouette(0)"
   ]
  },
  {
   "cell_type": "code",
   "execution_count": null,
   "metadata": {},
   "outputs": [],
   "source": [
    "#point cloud\n",
    "vis.show()"
   ]
  },
  {
   "cell_type": "code",
   "execution_count": null,
   "metadata": {},
   "outputs": [],
   "source": []
  },
  {
   "cell_type": "code",
   "execution_count": null,
   "metadata": {},
   "outputs": [],
   "source": []
  }
 ],
 "metadata": {
  "kernelspec": {
   "display_name": "Python 2",
   "language": "python",
   "name": "python2"
  },
  "language_info": {
   "codemirror_mode": {
    "name": "ipython",
    "version": 2
   },
   "file_extension": ".py",
   "mimetype": "text/x-python",
   "name": "python",
   "nbconvert_exporter": "python",
   "pygments_lexer": "ipython2",
   "version": "2.7.12"
  },
  "latex_envs": {
   "LaTeX_envs_menu_present": true,
   "autoclose": false,
   "autocomplete": true,
   "bibliofile": "biblio.bib",
   "cite_by": "apalike",
   "current_citInitial": 1,
   "eqLabelWithNumbers": true,
   "eqNumInitial": 1,
   "hotkeys": {
    "equation": "Ctrl-E",
    "itemize": "Ctrl-I"
   },
   "labels_anchors": false,
   "latex_user_defs": false,
   "report_style_numbering": false,
   "user_envs_cfg": false
  },
  "toc": {
   "base_numbering": 1,
   "nav_menu": {},
   "number_sections": true,
   "sideBar": true,
   "skip_h1_title": false,
   "title_cell": "Table of Contents",
   "title_sidebar": "Contents",
   "toc_cell": false,
   "toc_position": {},
   "toc_section_display": true,
   "toc_window_display": false
  }
 },
 "nbformat": 4,
 "nbformat_minor": 2
}
